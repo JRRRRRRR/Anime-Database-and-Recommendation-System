{
 "cells": [
  {
   "cell_type": "code",
   "execution_count": 1,
   "metadata": {},
   "outputs": [],
   "source": [
    "import pandas as pd"
   ]
  },
  {
   "cell_type": "code",
   "execution_count": 2,
   "metadata": {},
   "outputs": [],
   "source": [
    "df_info = pd.read_csv('rawData/anime_new.csv')"
   ]
  },
  {
   "cell_type": "code",
   "execution_count": 3,
   "metadata": {},
   "outputs": [],
   "source": [
    "df_image = pd.read_csv('rawData/imageLink.csv', index_col=0)"
   ]
  },
  {
   "cell_type": "code",
   "execution_count": 4,
   "metadata": {},
   "outputs": [],
   "source": [
    "df_anime = pd.read_csv('rawData/anime.csv')"
   ]
  },
  {
   "cell_type": "code",
   "execution_count": 5,
   "metadata": {},
   "outputs": [],
   "source": [
    "df_rating = pd.read_csv('rawData/rating.csv')"
   ]
  },
  {
   "cell_type": "code",
   "execution_count": 6,
   "metadata": {},
   "outputs": [
    {
     "name": "stdout",
     "output_type": "stream",
     "text": [
      "<class 'pandas.core.frame.DataFrame'>\n",
      "RangeIndex: 14578 entries, 0 to 14577\n",
      "Data columns (total 18 columns):\n",
      " #   Column        Non-Null Count  Dtype  \n",
      "---  ------        --------------  -----  \n",
      " 0   title         14578 non-null  object \n",
      " 1   mediaType     14510 non-null  object \n",
      " 2   eps           14219 non-null  float64\n",
      " 3   duration      9137 non-null   float64\n",
      " 4   ongoing       14578 non-null  bool   \n",
      " 5   startYr       14356 non-null  float64\n",
      " 6   finishYr      14134 non-null  float64\n",
      " 7   sznOfRelease  3767 non-null   object \n",
      " 8   description   8173 non-null   object \n",
      " 9   studios       14578 non-null  object \n",
      " 10  tags          14578 non-null  object \n",
      " 11  contentWarn   14578 non-null  object \n",
      " 12  watched       14356 non-null  float64\n",
      " 13  watching      14578 non-null  int64  \n",
      " 14  wantWatch     14578 non-null  int64  \n",
      " 15  dropped       14578 non-null  int64  \n",
      " 16  rating        12107 non-null  float64\n",
      " 17  votes         12119 non-null  float64\n",
      "dtypes: bool(1), float64(7), int64(3), object(7)\n",
      "memory usage: 1.9+ MB\n"
     ]
    }
   ],
   "source": [
    "df_info.info()"
   ]
  },
  {
   "cell_type": "code",
   "execution_count": 7,
   "metadata": {},
   "outputs": [
    {
     "name": "stdout",
     "output_type": "stream",
     "text": [
      "<class 'pandas.core.frame.DataFrame'>\n",
      "Int64Index: 14000 entries, 0 to 13999\n",
      "Data columns (total 2 columns):\n",
      " #   Column     Non-Null Count  Dtype \n",
      "---  ------     --------------  ----- \n",
      " 0   title      14000 non-null  object\n",
      " 1   imageLink  14000 non-null  object\n",
      "dtypes: object(2)\n",
      "memory usage: 328.1+ KB\n"
     ]
    }
   ],
   "source": [
    "df_image.info()"
   ]
  },
  {
   "cell_type": "code",
   "execution_count": 8,
   "metadata": {},
   "outputs": [
    {
     "name": "stdout",
     "output_type": "stream",
     "text": [
      "<class 'pandas.core.frame.DataFrame'>\n",
      "RangeIndex: 7813737 entries, 0 to 7813736\n",
      "Data columns (total 3 columns):\n",
      " #   Column    Dtype\n",
      "---  ------    -----\n",
      " 0   user_id   int64\n",
      " 1   anime_id  int64\n",
      " 2   rating    int64\n",
      "dtypes: int64(3)\n",
      "memory usage: 178.8 MB\n"
     ]
    }
   ],
   "source": [
    "df_rating.info()"
   ]
  },
  {
   "cell_type": "markdown",
   "metadata": {},
   "source": [
    "# Merging Data"
   ]
  },
  {
   "cell_type": "code",
   "execution_count": 9,
   "metadata": {},
   "outputs": [],
   "source": [
    "df_basic = df_info.set_index('title').join(df_image.set_index('title'), how='inner')"
   ]
  },
  {
   "cell_type": "code",
   "execution_count": 10,
   "metadata": {},
   "outputs": [],
   "source": [
    "df_final = df_basic.drop(columns=['mediaType', 'eps', 'tags', 'rating', 'votes']).join(df_anime.set_index('name'), how='inner')"
   ]
  },
  {
   "cell_type": "code",
   "execution_count": 11,
   "metadata": {},
   "outputs": [
    {
     "data": {
      "text/plain": [
       "(4382, 19)"
      ]
     },
     "execution_count": 11,
     "metadata": {},
     "output_type": "execute_result"
    }
   ],
   "source": [
    "# This dataset for recommendation system\n",
    "df_final.shape"
   ]
  },
  {
   "cell_type": "markdown",
   "metadata": {},
   "source": [
    "# Cleaning Data"
   ]
  },
  {
   "cell_type": "code",
   "execution_count": 12,
   "metadata": {},
   "outputs": [
    {
     "data": {
      "text/html": [
       "<div>\n",
       "<style scoped>\n",
       "    .dataframe tbody tr th:only-of-type {\n",
       "        vertical-align: middle;\n",
       "    }\n",
       "\n",
       "    .dataframe tbody tr th {\n",
       "        vertical-align: top;\n",
       "    }\n",
       "\n",
       "    .dataframe thead th {\n",
       "        text-align: right;\n",
       "    }\n",
       "</style>\n",
       "<table border=\"1\" class=\"dataframe\">\n",
       "  <thead>\n",
       "    <tr style=\"text-align: right;\">\n",
       "      <th></th>\n",
       "      <th>duration</th>\n",
       "      <th>ongoing</th>\n",
       "      <th>startYr</th>\n",
       "      <th>finishYr</th>\n",
       "      <th>sznOfRelease</th>\n",
       "      <th>description</th>\n",
       "      <th>studios</th>\n",
       "      <th>contentWarn</th>\n",
       "      <th>watched</th>\n",
       "      <th>watching</th>\n",
       "      <th>wantWatch</th>\n",
       "      <th>dropped</th>\n",
       "      <th>imageLink</th>\n",
       "      <th>anime_id</th>\n",
       "      <th>genre</th>\n",
       "      <th>type</th>\n",
       "      <th>episodes</th>\n",
       "      <th>rating</th>\n",
       "      <th>members</th>\n",
       "    </tr>\n",
       "  </thead>\n",
       "  <tbody>\n",
       "    <tr>\n",
       "      <th>.hack//G.U. Returner</th>\n",
       "      <td>NaN</td>\n",
       "      <td>False</td>\n",
       "      <td>2007.0</td>\n",
       "      <td>2007.0</td>\n",
       "      <td>NaN</td>\n",
       "      <td>\"There is something I wish to entrust to you; ...</td>\n",
       "      <td>[]</td>\n",
       "      <td>[]</td>\n",
       "      <td>4353.0</td>\n",
       "      <td>60</td>\n",
       "      <td>2877</td>\n",
       "      <td>45</td>\n",
       "      <td>https://www.anime-planet.com//images/anime/cov...</td>\n",
       "      <td>2928</td>\n",
       "      <td>Adventure, Drama, Fantasy, Game, Magic, Sci-Fi</td>\n",
       "      <td>OVA</td>\n",
       "      <td>1</td>\n",
       "      <td>6.91</td>\n",
       "      <td>15412</td>\n",
       "    </tr>\n",
       "    <tr>\n",
       "      <th>.hack//G.U. Trilogy</th>\n",
       "      <td>93.0</td>\n",
       "      <td>False</td>\n",
       "      <td>2008.0</td>\n",
       "      <td>2008.0</td>\n",
       "      <td>NaN</td>\n",
       "      <td>The World is an ordinary online game – or at l...</td>\n",
       "      <td>['CyberConnect2 sai']</td>\n",
       "      <td>[]</td>\n",
       "      <td>5684.0</td>\n",
       "      <td>86</td>\n",
       "      <td>3440</td>\n",
       "      <td>64</td>\n",
       "      <td>https://www.anime-planet.com//images/anime/cov...</td>\n",
       "      <td>3269</td>\n",
       "      <td>Action, Fantasy, Game, Sci-Fi</td>\n",
       "      <td>Movie</td>\n",
       "      <td>1</td>\n",
       "      <td>7.32</td>\n",
       "      <td>22537</td>\n",
       "    </tr>\n",
       "    <tr>\n",
       "      <th>.hack//Quantum</th>\n",
       "      <td>NaN</td>\n",
       "      <td>False</td>\n",
       "      <td>2010.0</td>\n",
       "      <td>2011.0</td>\n",
       "      <td>NaN</td>\n",
       "      <td>Tobias, Mary, and Sakuya are way into the The ...</td>\n",
       "      <td>['Kinema Citrus']</td>\n",
       "      <td>[]</td>\n",
       "      <td>4751.0</td>\n",
       "      <td>218</td>\n",
       "      <td>2489</td>\n",
       "      <td>64</td>\n",
       "      <td>https://www.anime-planet.com//images/anime/cov...</td>\n",
       "      <td>9332</td>\n",
       "      <td>Action, Adventure, Fantasy, Game, Sci-Fi</td>\n",
       "      <td>OVA</td>\n",
       "      <td>3</td>\n",
       "      <td>7.36</td>\n",
       "      <td>26163</td>\n",
       "    </tr>\n",
       "    <tr>\n",
       "      <th>.hack//Roots</th>\n",
       "      <td>24.0</td>\n",
       "      <td>False</td>\n",
       "      <td>2006.0</td>\n",
       "      <td>2006.0</td>\n",
       "      <td>Spring</td>\n",
       "      <td>Years after the fantasy MMORPG known as 'The W...</td>\n",
       "      <td>['BEE TRAIN']</td>\n",
       "      <td>[]</td>\n",
       "      <td>10615.0</td>\n",
       "      <td>572</td>\n",
       "      <td>4250</td>\n",
       "      <td>716</td>\n",
       "      <td>https://www.anime-planet.com//images/anime/cov...</td>\n",
       "      <td>873</td>\n",
       "      <td>Adventure, Drama, Fantasy, Game, Sci-Fi</td>\n",
       "      <td>TV</td>\n",
       "      <td>26</td>\n",
       "      <td>7.06</td>\n",
       "      <td>50480</td>\n",
       "    </tr>\n",
       "    <tr>\n",
       "      <th>.hack//Versus: The Thanatos Report</th>\n",
       "      <td>21.0</td>\n",
       "      <td>False</td>\n",
       "      <td>2012.0</td>\n",
       "      <td>2012.0</td>\n",
       "      <td>NaN</td>\n",
       "      <td>NaN</td>\n",
       "      <td>[]</td>\n",
       "      <td>[]</td>\n",
       "      <td>695.0</td>\n",
       "      <td>20</td>\n",
       "      <td>622</td>\n",
       "      <td>10</td>\n",
       "      <td>https://www.anime-planet.com//inc/img/blank_ma...</td>\n",
       "      <td>15219</td>\n",
       "      <td>Action, Game, Sci-Fi</td>\n",
       "      <td>Special</td>\n",
       "      <td>1</td>\n",
       "      <td>6.51</td>\n",
       "      <td>4474</td>\n",
       "    </tr>\n",
       "  </tbody>\n",
       "</table>\n",
       "</div>"
      ],
      "text/plain": [
       "                                    duration  ongoing  startYr  finishYr  \\\n",
       ".hack//G.U. Returner                     NaN    False   2007.0    2007.0   \n",
       ".hack//G.U. Trilogy                     93.0    False   2008.0    2008.0   \n",
       ".hack//Quantum                           NaN    False   2010.0    2011.0   \n",
       ".hack//Roots                            24.0    False   2006.0    2006.0   \n",
       ".hack//Versus: The Thanatos Report      21.0    False   2012.0    2012.0   \n",
       "\n",
       "                                   sznOfRelease  \\\n",
       ".hack//G.U. Returner                        NaN   \n",
       ".hack//G.U. Trilogy                         NaN   \n",
       ".hack//Quantum                              NaN   \n",
       ".hack//Roots                             Spring   \n",
       ".hack//Versus: The Thanatos Report          NaN   \n",
       "\n",
       "                                                                          description  \\\n",
       ".hack//G.U. Returner                \"There is something I wish to entrust to you; ...   \n",
       ".hack//G.U. Trilogy                 The World is an ordinary online game – or at l...   \n",
       ".hack//Quantum                      Tobias, Mary, and Sakuya are way into the The ...   \n",
       ".hack//Roots                        Years after the fantasy MMORPG known as 'The W...   \n",
       ".hack//Versus: The Thanatos Report                                                NaN   \n",
       "\n",
       "                                                  studios contentWarn  \\\n",
       ".hack//G.U. Returner                                   []          []   \n",
       ".hack//G.U. Trilogy                 ['CyberConnect2 sai']          []   \n",
       ".hack//Quantum                          ['Kinema Citrus']          []   \n",
       ".hack//Roots                                ['BEE TRAIN']          []   \n",
       ".hack//Versus: The Thanatos Report                     []          []   \n",
       "\n",
       "                                    watched  watching  wantWatch  dropped  \\\n",
       ".hack//G.U. Returner                 4353.0        60       2877       45   \n",
       ".hack//G.U. Trilogy                  5684.0        86       3440       64   \n",
       ".hack//Quantum                       4751.0       218       2489       64   \n",
       ".hack//Roots                        10615.0       572       4250      716   \n",
       ".hack//Versus: The Thanatos Report    695.0        20        622       10   \n",
       "\n",
       "                                                                            imageLink  \\\n",
       ".hack//G.U. Returner                https://www.anime-planet.com//images/anime/cov...   \n",
       ".hack//G.U. Trilogy                 https://www.anime-planet.com//images/anime/cov...   \n",
       ".hack//Quantum                      https://www.anime-planet.com//images/anime/cov...   \n",
       ".hack//Roots                        https://www.anime-planet.com//images/anime/cov...   \n",
       ".hack//Versus: The Thanatos Report  https://www.anime-planet.com//inc/img/blank_ma...   \n",
       "\n",
       "                                    anime_id  \\\n",
       ".hack//G.U. Returner                    2928   \n",
       ".hack//G.U. Trilogy                     3269   \n",
       ".hack//Quantum                          9332   \n",
       ".hack//Roots                             873   \n",
       ".hack//Versus: The Thanatos Report     15219   \n",
       "\n",
       "                                                                             genre  \\\n",
       ".hack//G.U. Returner                Adventure, Drama, Fantasy, Game, Magic, Sci-Fi   \n",
       ".hack//G.U. Trilogy                                  Action, Fantasy, Game, Sci-Fi   \n",
       ".hack//Quantum                            Action, Adventure, Fantasy, Game, Sci-Fi   \n",
       ".hack//Roots                               Adventure, Drama, Fantasy, Game, Sci-Fi   \n",
       ".hack//Versus: The Thanatos Report                            Action, Game, Sci-Fi   \n",
       "\n",
       "                                       type episodes  rating  members  \n",
       ".hack//G.U. Returner                    OVA        1    6.91    15412  \n",
       ".hack//G.U. Trilogy                   Movie        1    7.32    22537  \n",
       ".hack//Quantum                          OVA        3    7.36    26163  \n",
       ".hack//Roots                             TV       26    7.06    50480  \n",
       ".hack//Versus: The Thanatos Report  Special        1    6.51     4474  "
      ]
     },
     "execution_count": 12,
     "metadata": {},
     "output_type": "execute_result"
    }
   ],
   "source": [
    "df_final.head()"
   ]
  },
  {
   "cell_type": "code",
   "execution_count": 13,
   "metadata": {},
   "outputs": [
    {
     "data": {
      "text/plain": [
       "0"
      ]
     },
     "execution_count": 13,
     "metadata": {},
     "output_type": "execute_result"
    }
   ],
   "source": [
    "# Check the indexes whether unique\n",
    "df_final.index.duplicated().sum()"
   ]
  },
  {
   "cell_type": "code",
   "execution_count": 14,
   "metadata": {},
   "outputs": [
    {
     "data": {
      "text/plain": [
       "duration        0.420812\n",
       "ongoing         0.000000\n",
       "startYr         0.001369\n",
       "finishYr        0.006390\n",
       "sznOfRelease    0.696942\n",
       "description     0.383843\n",
       "studios         0.000000\n",
       "contentWarn     0.000000\n",
       "watched         0.005021\n",
       "watching        0.000000\n",
       "wantWatch       0.000000\n",
       "dropped         0.000000\n",
       "imageLink       0.000000\n",
       "anime_id        0.000000\n",
       "genre           0.007759\n",
       "type            0.001826\n",
       "episodes        0.000000\n",
       "rating          0.015062\n",
       "members         0.000000\n",
       "dtype: float64"
      ]
     },
     "execution_count": 14,
     "metadata": {},
     "output_type": "execute_result"
    }
   ],
   "source": [
    "# Check the na values percnetage for every column\n",
    "df_final.isna().sum()/df_final.shape[0]"
   ]
  },
  {
   "cell_type": "markdown",
   "metadata": {},
   "source": [
    "It shows that columns('duration', 'sznOfRelease', 'description') have high percentage of na values. However, these features(including 'startYr', 'finishYr', 'watched') are no important for the anime and I am only going to use them on the database. Therefore, I am going to keep them. "
   ]
  },
  {
   "cell_type": "markdown",
   "metadata": {},
   "source": [
    "For columns('genre' and 'type'), I am going to list all the na value into unknown. For 'rating' column, I am going to drop the row with na values because this is important and I will use this for my recommendation system."
   ]
  },
  {
   "cell_type": "code",
   "execution_count": 16,
   "metadata": {},
   "outputs": [],
   "source": [
    "# Drop rows with na rating values\n",
    "df_final.drop(index=df_final[df_final['rating'].isna()].index, inplace=True)"
   ]
  },
  {
   "cell_type": "code",
   "execution_count": 17,
   "metadata": {},
   "outputs": [],
   "source": [
    "# Replace na values by unknown in columns 'genre' and 'type'\n",
    "df_final['genre'].fillna('unknown', inplace=True)\n",
    "df_final['type'].fillna('unknown', inplace=True)"
   ]
  },
  {
   "cell_type": "code",
   "execution_count": 18,
   "metadata": {},
   "outputs": [
    {
     "data": {
      "text/plain": [
       "duration        0.415894\n",
       "ongoing         0.000000\n",
       "startYr         0.001158\n",
       "finishYr        0.006256\n",
       "sznOfRelease    0.702502\n",
       "description     0.387627\n",
       "studios         0.000000\n",
       "contentWarn     0.000000\n",
       "watched         0.005097\n",
       "watching        0.000000\n",
       "wantWatch       0.000000\n",
       "dropped         0.000000\n",
       "imageLink       0.000000\n",
       "anime_id        0.000000\n",
       "genre           0.000000\n",
       "type            0.000000\n",
       "episodes        0.000000\n",
       "rating          0.000000\n",
       "members         0.000000\n",
       "dtype: float64"
      ]
     },
     "execution_count": 18,
     "metadata": {},
     "output_type": "execute_result"
    }
   ],
   "source": [
    "# Double check\n",
    "df_final.isna().sum()/df_final.shape[0]"
   ]
  },
  {
   "cell_type": "code",
   "execution_count": 19,
   "metadata": {},
   "outputs": [
    {
     "data": {
      "text/html": [
       "<div>\n",
       "<style scoped>\n",
       "    .dataframe tbody tr th:only-of-type {\n",
       "        vertical-align: middle;\n",
       "    }\n",
       "\n",
       "    .dataframe tbody tr th {\n",
       "        vertical-align: top;\n",
       "    }\n",
       "\n",
       "    .dataframe thead th {\n",
       "        text-align: right;\n",
       "    }\n",
       "</style>\n",
       "<table border=\"1\" class=\"dataframe\">\n",
       "  <thead>\n",
       "    <tr style=\"text-align: right;\">\n",
       "      <th></th>\n",
       "      <th>duration</th>\n",
       "      <th>startYr</th>\n",
       "      <th>finishYr</th>\n",
       "      <th>watched</th>\n",
       "      <th>watching</th>\n",
       "      <th>wantWatch</th>\n",
       "      <th>dropped</th>\n",
       "      <th>anime_id</th>\n",
       "      <th>rating</th>\n",
       "      <th>members</th>\n",
       "    </tr>\n",
       "  </thead>\n",
       "  <tbody>\n",
       "    <tr>\n",
       "      <th>count</th>\n",
       "      <td>2521.000000</td>\n",
       "      <td>4311.000000</td>\n",
       "      <td>4289.000000</td>\n",
       "      <td>4294.000000</td>\n",
       "      <td>4316.000000</td>\n",
       "      <td>4316.000000</td>\n",
       "      <td>4316.000000</td>\n",
       "      <td>4316.000000</td>\n",
       "      <td>4316.000000</td>\n",
       "      <td>4.316000e+03</td>\n",
       "    </tr>\n",
       "    <tr>\n",
       "      <th>mean</th>\n",
       "      <td>24.426418</td>\n",
       "      <td>1999.939457</td>\n",
       "      <td>2000.299837</td>\n",
       "      <td>2920.919655</td>\n",
       "      <td>277.126274</td>\n",
       "      <td>1166.063948</td>\n",
       "      <td>186.960843</td>\n",
       "      <td>13671.937210</td>\n",
       "      <td>6.399099</td>\n",
       "      <td>2.146527e+04</td>\n",
       "    </tr>\n",
       "    <tr>\n",
       "      <th>std</th>\n",
       "      <td>29.237578</td>\n",
       "      <td>16.169700</td>\n",
       "      <td>16.142385</td>\n",
       "      <td>8999.946208</td>\n",
       "      <td>1767.489469</td>\n",
       "      <td>2588.845289</td>\n",
       "      <td>665.681223</td>\n",
       "      <td>11165.338846</td>\n",
       "      <td>1.039444</td>\n",
       "      <td>6.733431e+04</td>\n",
       "    </tr>\n",
       "    <tr>\n",
       "      <th>min</th>\n",
       "      <td>1.000000</td>\n",
       "      <td>1907.000000</td>\n",
       "      <td>1907.000000</td>\n",
       "      <td>0.000000</td>\n",
       "      <td>0.000000</td>\n",
       "      <td>0.000000</td>\n",
       "      <td>0.000000</td>\n",
       "      <td>1.000000</td>\n",
       "      <td>1.670000</td>\n",
       "      <td>2.000000e+01</td>\n",
       "    </tr>\n",
       "    <tr>\n",
       "      <th>25%</th>\n",
       "      <td>4.000000</td>\n",
       "      <td>1992.000000</td>\n",
       "      <td>1992.000000</td>\n",
       "      <td>32.000000</td>\n",
       "      <td>1.000000</td>\n",
       "      <td>31.000000</td>\n",
       "      <td>2.000000</td>\n",
       "      <td>3658.250000</td>\n",
       "      <td>5.780000</td>\n",
       "      <td>2.130000e+02</td>\n",
       "    </tr>\n",
       "    <tr>\n",
       "      <th>50%</th>\n",
       "      <td>11.000000</td>\n",
       "      <td>2006.000000</td>\n",
       "      <td>2006.000000</td>\n",
       "      <td>169.500000</td>\n",
       "      <td>7.000000</td>\n",
       "      <td>160.000000</td>\n",
       "      <td>9.000000</td>\n",
       "      <td>9980.000000</td>\n",
       "      <td>6.500000</td>\n",
       "      <td>1.121500e+03</td>\n",
       "    </tr>\n",
       "    <tr>\n",
       "      <th>75%</th>\n",
       "      <td>31.000000</td>\n",
       "      <td>2012.000000</td>\n",
       "      <td>2012.000000</td>\n",
       "      <td>1582.500000</td>\n",
       "      <td>72.000000</td>\n",
       "      <td>992.250000</td>\n",
       "      <td>63.000000</td>\n",
       "      <td>23367.500000</td>\n",
       "      <td>7.130000</td>\n",
       "      <td>1.042800e+04</td>\n",
       "    </tr>\n",
       "    <tr>\n",
       "      <th>max</th>\n",
       "      <td>160.000000</td>\n",
       "      <td>2019.000000</td>\n",
       "      <td>2019.000000</td>\n",
       "      <td>161567.000000</td>\n",
       "      <td>74537.000000</td>\n",
       "      <td>28541.000000</td>\n",
       "      <td>19481.000000</td>\n",
       "      <td>34519.000000</td>\n",
       "      <td>9.260000</td>\n",
       "      <td>1.013917e+06</td>\n",
       "    </tr>\n",
       "  </tbody>\n",
       "</table>\n",
       "</div>"
      ],
      "text/plain": [
       "          duration      startYr     finishYr        watched      watching  \\\n",
       "count  2521.000000  4311.000000  4289.000000    4294.000000   4316.000000   \n",
       "mean     24.426418  1999.939457  2000.299837    2920.919655    277.126274   \n",
       "std      29.237578    16.169700    16.142385    8999.946208   1767.489469   \n",
       "min       1.000000  1907.000000  1907.000000       0.000000      0.000000   \n",
       "25%       4.000000  1992.000000  1992.000000      32.000000      1.000000   \n",
       "50%      11.000000  2006.000000  2006.000000     169.500000      7.000000   \n",
       "75%      31.000000  2012.000000  2012.000000    1582.500000     72.000000   \n",
       "max     160.000000  2019.000000  2019.000000  161567.000000  74537.000000   \n",
       "\n",
       "          wantWatch       dropped      anime_id       rating       members  \n",
       "count   4316.000000   4316.000000   4316.000000  4316.000000  4.316000e+03  \n",
       "mean    1166.063948    186.960843  13671.937210     6.399099  2.146527e+04  \n",
       "std     2588.845289    665.681223  11165.338846     1.039444  6.733431e+04  \n",
       "min        0.000000      0.000000      1.000000     1.670000  2.000000e+01  \n",
       "25%       31.000000      2.000000   3658.250000     5.780000  2.130000e+02  \n",
       "50%      160.000000      9.000000   9980.000000     6.500000  1.121500e+03  \n",
       "75%      992.250000     63.000000  23367.500000     7.130000  1.042800e+04  \n",
       "max    28541.000000  19481.000000  34519.000000     9.260000  1.013917e+06  "
      ]
     },
     "execution_count": 19,
     "metadata": {},
     "output_type": "execute_result"
    }
   ],
   "source": [
    "# Check if any erroneous values\n",
    "df_final.describe()"
   ]
  },
  {
   "cell_type": "code",
   "execution_count": 20,
   "metadata": {},
   "outputs": [],
   "source": [
    "df_final.reset_index(inplace=True)\n",
    "df_final.set_index('anime_id', inplace=True)\n",
    "df_final.rename(columns={'index':'title'}, inplace=True)"
   ]
  },
  {
   "cell_type": "code",
   "execution_count": 21,
   "metadata": {},
   "outputs": [
    {
     "data": {
      "text/html": [
       "<div>\n",
       "<style scoped>\n",
       "    .dataframe tbody tr th:only-of-type {\n",
       "        vertical-align: middle;\n",
       "    }\n",
       "\n",
       "    .dataframe tbody tr th {\n",
       "        vertical-align: top;\n",
       "    }\n",
       "\n",
       "    .dataframe thead th {\n",
       "        text-align: right;\n",
       "    }\n",
       "</style>\n",
       "<table border=\"1\" class=\"dataframe\">\n",
       "  <thead>\n",
       "    <tr style=\"text-align: right;\">\n",
       "      <th></th>\n",
       "      <th>title</th>\n",
       "      <th>duration</th>\n",
       "      <th>ongoing</th>\n",
       "      <th>startYr</th>\n",
       "      <th>finishYr</th>\n",
       "      <th>sznOfRelease</th>\n",
       "      <th>description</th>\n",
       "      <th>studios</th>\n",
       "      <th>contentWarn</th>\n",
       "      <th>watched</th>\n",
       "      <th>watching</th>\n",
       "      <th>wantWatch</th>\n",
       "      <th>dropped</th>\n",
       "      <th>imageLink</th>\n",
       "      <th>genre</th>\n",
       "      <th>type</th>\n",
       "      <th>episodes</th>\n",
       "      <th>rating</th>\n",
       "      <th>members</th>\n",
       "    </tr>\n",
       "    <tr>\n",
       "      <th>anime_id</th>\n",
       "      <th></th>\n",
       "      <th></th>\n",
       "      <th></th>\n",
       "      <th></th>\n",
       "      <th></th>\n",
       "      <th></th>\n",
       "      <th></th>\n",
       "      <th></th>\n",
       "      <th></th>\n",
       "      <th></th>\n",
       "      <th></th>\n",
       "      <th></th>\n",
       "      <th></th>\n",
       "      <th></th>\n",
       "      <th></th>\n",
       "      <th></th>\n",
       "      <th></th>\n",
       "      <th></th>\n",
       "      <th></th>\n",
       "    </tr>\n",
       "  </thead>\n",
       "  <tbody>\n",
       "    <tr>\n",
       "      <th>2928</th>\n",
       "      <td>.hack//G.U. Returner</td>\n",
       "      <td>NaN</td>\n",
       "      <td>False</td>\n",
       "      <td>2007.0</td>\n",
       "      <td>2007.0</td>\n",
       "      <td>NaN</td>\n",
       "      <td>\"There is something I wish to entrust to you; ...</td>\n",
       "      <td>[]</td>\n",
       "      <td>[]</td>\n",
       "      <td>4353.0</td>\n",
       "      <td>60</td>\n",
       "      <td>2877</td>\n",
       "      <td>45</td>\n",
       "      <td>https://www.anime-planet.com//images/anime/cov...</td>\n",
       "      <td>Adventure, Drama, Fantasy, Game, Magic, Sci-Fi</td>\n",
       "      <td>OVA</td>\n",
       "      <td>1</td>\n",
       "      <td>6.91</td>\n",
       "      <td>15412</td>\n",
       "    </tr>\n",
       "    <tr>\n",
       "      <th>3269</th>\n",
       "      <td>.hack//G.U. Trilogy</td>\n",
       "      <td>93.0</td>\n",
       "      <td>False</td>\n",
       "      <td>2008.0</td>\n",
       "      <td>2008.0</td>\n",
       "      <td>NaN</td>\n",
       "      <td>The World is an ordinary online game – or at l...</td>\n",
       "      <td>['CyberConnect2 sai']</td>\n",
       "      <td>[]</td>\n",
       "      <td>5684.0</td>\n",
       "      <td>86</td>\n",
       "      <td>3440</td>\n",
       "      <td>64</td>\n",
       "      <td>https://www.anime-planet.com//images/anime/cov...</td>\n",
       "      <td>Action, Fantasy, Game, Sci-Fi</td>\n",
       "      <td>Movie</td>\n",
       "      <td>1</td>\n",
       "      <td>7.32</td>\n",
       "      <td>22537</td>\n",
       "    </tr>\n",
       "    <tr>\n",
       "      <th>9332</th>\n",
       "      <td>.hack//Quantum</td>\n",
       "      <td>NaN</td>\n",
       "      <td>False</td>\n",
       "      <td>2010.0</td>\n",
       "      <td>2011.0</td>\n",
       "      <td>NaN</td>\n",
       "      <td>Tobias, Mary, and Sakuya are way into the The ...</td>\n",
       "      <td>['Kinema Citrus']</td>\n",
       "      <td>[]</td>\n",
       "      <td>4751.0</td>\n",
       "      <td>218</td>\n",
       "      <td>2489</td>\n",
       "      <td>64</td>\n",
       "      <td>https://www.anime-planet.com//images/anime/cov...</td>\n",
       "      <td>Action, Adventure, Fantasy, Game, Sci-Fi</td>\n",
       "      <td>OVA</td>\n",
       "      <td>3</td>\n",
       "      <td>7.36</td>\n",
       "      <td>26163</td>\n",
       "    </tr>\n",
       "    <tr>\n",
       "      <th>873</th>\n",
       "      <td>.hack//Roots</td>\n",
       "      <td>24.0</td>\n",
       "      <td>False</td>\n",
       "      <td>2006.0</td>\n",
       "      <td>2006.0</td>\n",
       "      <td>Spring</td>\n",
       "      <td>Years after the fantasy MMORPG known as 'The W...</td>\n",
       "      <td>['BEE TRAIN']</td>\n",
       "      <td>[]</td>\n",
       "      <td>10615.0</td>\n",
       "      <td>572</td>\n",
       "      <td>4250</td>\n",
       "      <td>716</td>\n",
       "      <td>https://www.anime-planet.com//images/anime/cov...</td>\n",
       "      <td>Adventure, Drama, Fantasy, Game, Sci-Fi</td>\n",
       "      <td>TV</td>\n",
       "      <td>26</td>\n",
       "      <td>7.06</td>\n",
       "      <td>50480</td>\n",
       "    </tr>\n",
       "    <tr>\n",
       "      <th>15219</th>\n",
       "      <td>.hack//Versus: The Thanatos Report</td>\n",
       "      <td>21.0</td>\n",
       "      <td>False</td>\n",
       "      <td>2012.0</td>\n",
       "      <td>2012.0</td>\n",
       "      <td>NaN</td>\n",
       "      <td>NaN</td>\n",
       "      <td>[]</td>\n",
       "      <td>[]</td>\n",
       "      <td>695.0</td>\n",
       "      <td>20</td>\n",
       "      <td>622</td>\n",
       "      <td>10</td>\n",
       "      <td>https://www.anime-planet.com//inc/img/blank_ma...</td>\n",
       "      <td>Action, Game, Sci-Fi</td>\n",
       "      <td>Special</td>\n",
       "      <td>1</td>\n",
       "      <td>6.51</td>\n",
       "      <td>4474</td>\n",
       "    </tr>\n",
       "  </tbody>\n",
       "</table>\n",
       "</div>"
      ],
      "text/plain": [
       "                                       title  duration  ongoing  startYr  \\\n",
       "anime_id                                                                   \n",
       "2928                    .hack//G.U. Returner       NaN    False   2007.0   \n",
       "3269                     .hack//G.U. Trilogy      93.0    False   2008.0   \n",
       "9332                          .hack//Quantum       NaN    False   2010.0   \n",
       "873                             .hack//Roots      24.0    False   2006.0   \n",
       "15219     .hack//Versus: The Thanatos Report      21.0    False   2012.0   \n",
       "\n",
       "          finishYr sznOfRelease  \\\n",
       "anime_id                          \n",
       "2928        2007.0          NaN   \n",
       "3269        2008.0          NaN   \n",
       "9332        2011.0          NaN   \n",
       "873         2006.0       Spring   \n",
       "15219       2012.0          NaN   \n",
       "\n",
       "                                                description  \\\n",
       "anime_id                                                      \n",
       "2928      \"There is something I wish to entrust to you; ...   \n",
       "3269      The World is an ordinary online game – or at l...   \n",
       "9332      Tobias, Mary, and Sakuya are way into the The ...   \n",
       "873       Years after the fantasy MMORPG known as 'The W...   \n",
       "15219                                                   NaN   \n",
       "\n",
       "                        studios contentWarn  watched  watching  wantWatch  \\\n",
       "anime_id                                                                    \n",
       "2928                         []          []   4353.0        60       2877   \n",
       "3269      ['CyberConnect2 sai']          []   5684.0        86       3440   \n",
       "9332          ['Kinema Citrus']          []   4751.0       218       2489   \n",
       "873               ['BEE TRAIN']          []  10615.0       572       4250   \n",
       "15219                        []          []    695.0        20        622   \n",
       "\n",
       "          dropped                                          imageLink  \\\n",
       "anime_id                                                               \n",
       "2928           45  https://www.anime-planet.com//images/anime/cov...   \n",
       "3269           64  https://www.anime-planet.com//images/anime/cov...   \n",
       "9332           64  https://www.anime-planet.com//images/anime/cov...   \n",
       "873           716  https://www.anime-planet.com//images/anime/cov...   \n",
       "15219          10  https://www.anime-planet.com//inc/img/blank_ma...   \n",
       "\n",
       "                                                   genre     type episodes  \\\n",
       "anime_id                                                                     \n",
       "2928      Adventure, Drama, Fantasy, Game, Magic, Sci-Fi      OVA        1   \n",
       "3269                       Action, Fantasy, Game, Sci-Fi    Movie        1   \n",
       "9332            Action, Adventure, Fantasy, Game, Sci-Fi      OVA        3   \n",
       "873              Adventure, Drama, Fantasy, Game, Sci-Fi       TV       26   \n",
       "15219                               Action, Game, Sci-Fi  Special        1   \n",
       "\n",
       "          rating  members  \n",
       "anime_id                   \n",
       "2928        6.91    15412  \n",
       "3269        7.32    22537  \n",
       "9332        7.36    26163  \n",
       "873         7.06    50480  \n",
       "15219       6.51     4474  "
      ]
     },
     "execution_count": 21,
     "metadata": {},
     "output_type": "execute_result"
    }
   ],
   "source": [
    "df_final.head()"
   ]
  },
  {
   "cell_type": "code",
   "execution_count": 22,
   "metadata": {},
   "outputs": [
    {
     "data": {
      "text/plain": [
       "(4316, 19)"
      ]
     },
     "execution_count": 22,
     "metadata": {},
     "output_type": "execute_result"
    }
   ],
   "source": [
    "df_final.shape"
   ]
  },
  {
   "cell_type": "code",
   "execution_count": 24,
   "metadata": {},
   "outputs": [],
   "source": [
    "df_final.to_csv(\"/Users/jrchen/flatiron-ds-course/Milestones/capstone/cleaningData/clean_basic.csv\")"
   ]
  },
  {
   "cell_type": "markdown",
   "metadata": {},
   "source": [
    "# Tuning Rating Dataset"
   ]
  },
  {
   "cell_type": "code",
   "execution_count": 25,
   "metadata": {},
   "outputs": [
    {
     "name": "stdout",
     "output_type": "stream",
     "text": [
      "<class 'pandas.core.frame.DataFrame'>\n",
      "RangeIndex: 7813737 entries, 0 to 7813736\n",
      "Data columns (total 3 columns):\n",
      " #   Column    Dtype\n",
      "---  ------    -----\n",
      " 0   user_id   int64\n",
      " 1   anime_id  int64\n",
      " 2   rating    int64\n",
      "dtypes: int64(3)\n",
      "memory usage: 178.8 MB\n"
     ]
    }
   ],
   "source": [
    "df_rating.info()"
   ]
  },
  {
   "cell_type": "code",
   "execution_count": 26,
   "metadata": {},
   "outputs": [
    {
     "data": {
      "text/plain": [
       "user_id     0\n",
       "anime_id    0\n",
       "rating      0\n",
       "dtype: int64"
      ]
     },
     "execution_count": 26,
     "metadata": {},
     "output_type": "execute_result"
    }
   ],
   "source": [
    "df_rating.isna().sum()"
   ]
  },
  {
   "cell_type": "code",
   "execution_count": 27,
   "metadata": {},
   "outputs": [
    {
     "data": {
      "text/html": [
       "<div>\n",
       "<style scoped>\n",
       "    .dataframe tbody tr th:only-of-type {\n",
       "        vertical-align: middle;\n",
       "    }\n",
       "\n",
       "    .dataframe tbody tr th {\n",
       "        vertical-align: top;\n",
       "    }\n",
       "\n",
       "    .dataframe thead th {\n",
       "        text-align: right;\n",
       "    }\n",
       "</style>\n",
       "<table border=\"1\" class=\"dataframe\">\n",
       "  <thead>\n",
       "    <tr style=\"text-align: right;\">\n",
       "      <th></th>\n",
       "      <th>user_id</th>\n",
       "      <th>anime_id</th>\n",
       "      <th>rating</th>\n",
       "    </tr>\n",
       "  </thead>\n",
       "  <tbody>\n",
       "    <tr>\n",
       "      <th>0</th>\n",
       "      <td>1</td>\n",
       "      <td>20</td>\n",
       "      <td>-1</td>\n",
       "    </tr>\n",
       "    <tr>\n",
       "      <th>1</th>\n",
       "      <td>1</td>\n",
       "      <td>24</td>\n",
       "      <td>-1</td>\n",
       "    </tr>\n",
       "    <tr>\n",
       "      <th>2</th>\n",
       "      <td>1</td>\n",
       "      <td>79</td>\n",
       "      <td>-1</td>\n",
       "    </tr>\n",
       "    <tr>\n",
       "      <th>3</th>\n",
       "      <td>1</td>\n",
       "      <td>226</td>\n",
       "      <td>-1</td>\n",
       "    </tr>\n",
       "    <tr>\n",
       "      <th>4</th>\n",
       "      <td>1</td>\n",
       "      <td>241</td>\n",
       "      <td>-1</td>\n",
       "    </tr>\n",
       "  </tbody>\n",
       "</table>\n",
       "</div>"
      ],
      "text/plain": [
       "   user_id  anime_id  rating\n",
       "0        1        20      -1\n",
       "1        1        24      -1\n",
       "2        1        79      -1\n",
       "3        1       226      -1\n",
       "4        1       241      -1"
      ]
     },
     "execution_count": 27,
     "metadata": {},
     "output_type": "execute_result"
    }
   ],
   "source": [
    "df_rating.head()"
   ]
  },
  {
   "cell_type": "code",
   "execution_count": 28,
   "metadata": {},
   "outputs": [],
   "source": [
    "# Create a new empty DataFrame to store rating info\n",
    "df_rate = pd.DataFrame()"
   ]
  },
  {
   "cell_type": "code",
   "execution_count": 29,
   "metadata": {},
   "outputs": [],
   "source": [
    "# Keeping add the valid anime_id rating info into the df_rate\n",
    "for i in df_final.index:\n",
    "    df_temp = df_rating.loc[df_rating['anime_id'] == i]\n",
    "    df_rate = pd.concat([df_rate, df_temp])"
   ]
  },
  {
   "cell_type": "code",
   "execution_count": 30,
   "metadata": {},
   "outputs": [
    {
     "data": {
      "text/plain": [
       "(3175823, 3)"
      ]
     },
     "execution_count": 30,
     "metadata": {},
     "output_type": "execute_result"
    }
   ],
   "source": [
    "df_rate.shape"
   ]
  },
  {
   "cell_type": "code",
   "execution_count": 31,
   "metadata": {},
   "outputs": [
    {
     "data": {
      "text/html": [
       "<div>\n",
       "<style scoped>\n",
       "    .dataframe tbody tr th:only-of-type {\n",
       "        vertical-align: middle;\n",
       "    }\n",
       "\n",
       "    .dataframe tbody tr th {\n",
       "        vertical-align: top;\n",
       "    }\n",
       "\n",
       "    .dataframe thead th {\n",
       "        text-align: right;\n",
       "    }\n",
       "</style>\n",
       "<table border=\"1\" class=\"dataframe\">\n",
       "  <thead>\n",
       "    <tr style=\"text-align: right;\">\n",
       "      <th></th>\n",
       "      <th>user_id</th>\n",
       "      <th>anime_id</th>\n",
       "      <th>rating</th>\n",
       "    </tr>\n",
       "  </thead>\n",
       "  <tbody>\n",
       "    <tr>\n",
       "      <th>10344</th>\n",
       "      <td>128</td>\n",
       "      <td>2928</td>\n",
       "      <td>8</td>\n",
       "    </tr>\n",
       "    <tr>\n",
       "      <th>12659</th>\n",
       "      <td>160</td>\n",
       "      <td>2928</td>\n",
       "      <td>8</td>\n",
       "    </tr>\n",
       "    <tr>\n",
       "      <th>22182</th>\n",
       "      <td>270</td>\n",
       "      <td>2928</td>\n",
       "      <td>-1</td>\n",
       "    </tr>\n",
       "    <tr>\n",
       "      <th>35333</th>\n",
       "      <td>392</td>\n",
       "      <td>2928</td>\n",
       "      <td>-1</td>\n",
       "    </tr>\n",
       "    <tr>\n",
       "      <th>38543</th>\n",
       "      <td>426</td>\n",
       "      <td>2928</td>\n",
       "      <td>-1</td>\n",
       "    </tr>\n",
       "  </tbody>\n",
       "</table>\n",
       "</div>"
      ],
      "text/plain": [
       "       user_id  anime_id  rating\n",
       "10344      128      2928       8\n",
       "12659      160      2928       8\n",
       "22182      270      2928      -1\n",
       "35333      392      2928      -1\n",
       "38543      426      2928      -1"
      ]
     },
     "execution_count": 31,
     "metadata": {},
     "output_type": "execute_result"
    }
   ],
   "source": [
    "df_rate.head()"
   ]
  },
  {
   "cell_type": "code",
   "execution_count": null,
   "metadata": {},
   "outputs": [],
   "source": [
    "df_rate.to_csv(\"/Users/jrchen/flatiron-ds-course/Milestones/capstone/cleaningData/clean_rating.csv\")"
   ]
  }
 ],
 "metadata": {
  "kernelspec": {
   "display_name": "Python 3",
   "language": "python",
   "name": "python3"
  },
  "language_info": {
   "codemirror_mode": {
    "name": "ipython",
    "version": 3
   },
   "file_extension": ".py",
   "mimetype": "text/x-python",
   "name": "python",
   "nbconvert_exporter": "python",
   "pygments_lexer": "ipython3",
   "version": "3.7.7"
  }
 },
 "nbformat": 4,
 "nbformat_minor": 4
}
