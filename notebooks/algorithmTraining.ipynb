{
 "cells": [
  {
   "cell_type": "code",
   "execution_count": 1,
   "metadata": {},
   "outputs": [],
   "source": [
    "# Importing relevant libraries\n",
    "import warnings\n",
    "warnings.simplefilter(\"ignore\")\n",
    "\n",
    "import pandas as pd\n",
    "import numpy as np\n",
    "\n",
    "from surprise import accuracy\n",
    "\n",
    "from surprise.model_selection import cross_validate, train_test_split\n",
    "from surprise.model_selection import RandomizedSearchCV, GridSearchCV\n",
    "\n",
    "from surprise.prediction_algorithms import SVD, SVDpp, NMF\n",
    "from surprise.prediction_algorithms import SlopeOne, CoClustering\n",
    "from surprise.prediction_algorithms import KNNWithMeans, KNNBasic, KNNBaseline"
   ]
  },
  {
   "cell_type": "code",
   "execution_count": 2,
   "metadata": {},
   "outputs": [
    {
     "name": "stdout",
     "output_type": "stream",
     "text": [
      "<class 'pandas.core.frame.DataFrame'>\n",
      "Int64Index: 3175823 entries, 10344 to 7813240\n",
      "Data columns (total 3 columns):\n",
      " #   Column    Dtype\n",
      "---  ------    -----\n",
      " 0   user_id   int64\n",
      " 1   anime_id  int64\n",
      " 2   rating    int64\n",
      "dtypes: int64(3)\n",
      "memory usage: 96.9 MB\n"
     ]
    }
   ],
   "source": [
    "ratings = pd.read_csv('cleaningData/clean_rating.csv', index_col=0)\n",
    "ratings.info()"
   ]
  },
  {
   "cell_type": "code",
   "execution_count": 3,
   "metadata": {},
   "outputs": [
    {
     "name": "stdout",
     "output_type": "stream",
     "text": [
      "No. of Unique Users    : 71753\n",
      "No. of Unique Animes    : 4059\n",
      "No. of Unique Ratings  : 11\n"
     ]
    }
   ],
   "source": [
    "print('No. of Unique Users    :', ratings['user_id'].nunique())\n",
    "print('No. of Unique Animes    :', ratings['anime_id'].nunique())\n",
    "print('No. of Unique Ratings  :', ratings['rating'].nunique())"
   ]
  },
  {
   "cell_type": "code",
   "execution_count": 4,
   "metadata": {},
   "outputs": [
    {
     "data": {
      "text/html": [
       "<div>\n",
       "<style scoped>\n",
       "    .dataframe tbody tr th:only-of-type {\n",
       "        vertical-align: middle;\n",
       "    }\n",
       "\n",
       "    .dataframe tbody tr th {\n",
       "        vertical-align: top;\n",
       "    }\n",
       "\n",
       "    .dataframe thead th {\n",
       "        text-align: right;\n",
       "    }\n",
       "</style>\n",
       "<table border=\"1\" class=\"dataframe\">\n",
       "  <thead>\n",
       "    <tr style=\"text-align: right;\">\n",
       "      <th></th>\n",
       "      <th>user_id</th>\n",
       "      <th>anime_id</th>\n",
       "      <th>rating</th>\n",
       "    </tr>\n",
       "  </thead>\n",
       "  <tbody>\n",
       "    <tr>\n",
       "      <th>count</th>\n",
       "      <td>3.175823e+06</td>\n",
       "      <td>3.175823e+06</td>\n",
       "      <td>3.175823e+06</td>\n",
       "    </tr>\n",
       "    <tr>\n",
       "      <th>mean</th>\n",
       "      <td>3.680416e+04</td>\n",
       "      <td>8.161120e+03</td>\n",
       "      <td>6.281125e+00</td>\n",
       "    </tr>\n",
       "    <tr>\n",
       "      <th>std</th>\n",
       "      <td>2.104133e+04</td>\n",
       "      <td>8.768075e+03</td>\n",
       "      <td>3.678330e+00</td>\n",
       "    </tr>\n",
       "    <tr>\n",
       "      <th>min</th>\n",
       "      <td>1.000000e+00</td>\n",
       "      <td>1.000000e+00</td>\n",
       "      <td>-1.000000e+00</td>\n",
       "    </tr>\n",
       "    <tr>\n",
       "      <th>25%</th>\n",
       "      <td>1.895100e+04</td>\n",
       "      <td>8.130000e+02</td>\n",
       "      <td>6.000000e+00</td>\n",
       "    </tr>\n",
       "    <tr>\n",
       "      <th>50%</th>\n",
       "      <td>3.699900e+04</td>\n",
       "      <td>5.112000e+03</td>\n",
       "      <td>8.000000e+00</td>\n",
       "    </tr>\n",
       "    <tr>\n",
       "      <th>75%</th>\n",
       "      <td>5.488300e+04</td>\n",
       "      <td>1.218900e+04</td>\n",
       "      <td>9.000000e+00</td>\n",
       "    </tr>\n",
       "    <tr>\n",
       "      <th>max</th>\n",
       "      <td>7.351600e+04</td>\n",
       "      <td>3.451900e+04</td>\n",
       "      <td>1.000000e+01</td>\n",
       "    </tr>\n",
       "  </tbody>\n",
       "</table>\n",
       "</div>"
      ],
      "text/plain": [
       "            user_id      anime_id        rating\n",
       "count  3.175823e+06  3.175823e+06  3.175823e+06\n",
       "mean   3.680416e+04  8.161120e+03  6.281125e+00\n",
       "std    2.104133e+04  8.768075e+03  3.678330e+00\n",
       "min    1.000000e+00  1.000000e+00 -1.000000e+00\n",
       "25%    1.895100e+04  8.130000e+02  6.000000e+00\n",
       "50%    3.699900e+04  5.112000e+03  8.000000e+00\n",
       "75%    5.488300e+04  1.218900e+04  9.000000e+00\n",
       "max    7.351600e+04  3.451900e+04  1.000000e+01"
      ]
     },
     "execution_count": 4,
     "metadata": {},
     "output_type": "execute_result"
    }
   ],
   "source": [
    "ratings.describe()"
   ]
  },
  {
   "cell_type": "code",
   "execution_count": 5,
   "metadata": {},
   "outputs": [],
   "source": [
    "# Transform the dataset into something compatible with surprise\n",
    "from surprise import Reader, Dataset\n",
    "reader = Reader(rating_scale=(1, 10))\n",
    "data = Dataset.load_from_df(ratings,reader)"
   ]
  },
  {
   "cell_type": "code",
   "execution_count": 6,
   "metadata": {},
   "outputs": [
    {
     "name": "stdout",
     "output_type": "stream",
     "text": [
      "Number of users:  71753 \n",
      "\n",
      "Number of items:  4059\n"
     ]
    }
   ],
   "source": [
    "# Preview\n",
    "dataset = data.build_full_trainset()\n",
    "print('Number of users: ', dataset.n_users, '\\n')\n",
    "print('Number of items: ', dataset.n_items)"
   ]
  },
  {
   "cell_type": "code",
   "execution_count": 7,
   "metadata": {},
   "outputs": [],
   "source": [
    "trainset, testset = train_test_split(data, test_size=.97)"
   ]
  },
  {
   "cell_type": "code",
   "execution_count": 8,
   "metadata": {},
   "outputs": [],
   "source": [
    "algorithm_list = [KNNBasic(), KNNBaseline(), KNNWithMeans(), SVD(), SVDpp(),\n",
    "                 NMF(), SlopeOne(), CoClustering()]\n",
    "rmse_list = []\n",
    "mae_list = []"
   ]
  },
  {
   "cell_type": "code",
   "execution_count": 9,
   "metadata": {},
   "outputs": [
    {
     "name": "stdout",
     "output_type": "stream",
     "text": [
      "Computing the msd similarity matrix...\n",
      "Done computing similarity matrix.\n",
      "RMSE: 3.7136\n",
      "MAE:  2.6724\n",
      "Estimating biases using als...\n",
      "Computing the msd similarity matrix...\n",
      "Done computing similarity matrix.\n",
      "RMSE: 3.4129\n",
      "MAE:  2.4743\n",
      "Computing the msd similarity matrix...\n",
      "Done computing similarity matrix.\n",
      "RMSE: 2.9534\n",
      "MAE:  2.1382\n",
      "RMSE: 3.2764\n",
      "MAE:  2.4705\n",
      "RMSE: 3.3605\n",
      "MAE:  2.5473\n",
      "RMSE: 5.7344\n",
      "MAE:  5.0916\n",
      "RMSE: 3.0183\n",
      "MAE:  2.2086\n",
      "RMSE: 2.8542\n",
      "MAE:  2.0404\n"
     ]
    }
   ],
   "source": [
    "# For all the algorithms\n",
    "for algorithm in algorithm_list:    \n",
    "    # Define algorithm.\n",
    "    algo = algorithm\n",
    "\n",
    "    # Train the algorithm on the trainset, and predict ratings for the testset\n",
    "    algo.fit(trainset)\n",
    "    predictions = algo.test(testset)\n",
    "\n",
    "    # Compute and append RMSE\n",
    "    rmse_list.append(accuracy.rmse(predictions))\n",
    "\n",
    "    # Compute and append MAE\n",
    "    mae_list.append(accuracy.mae(predictions))\n",
    "    \n",
    "    # Del algorithm for more RAM\n",
    "    del algo"
   ]
  },
  {
   "cell_type": "code",
   "execution_count": 14,
   "metadata": {},
   "outputs": [],
   "source": [
    "algorithm_str = ['KNNBasic', 'KNNBaseline', 'KNNWithMeans', 'SVD', 'SVDpp',\n",
    "                 'NMF', 'SlopeOne', 'CoClustering']\n",
    "df_algorithm = pd.DataFrame(\n",
    "    {'algorithm': algorithm_str, 'RMSE':rmse_list, 'MAE': mae_list})"
   ]
  },
  {
   "cell_type": "code",
   "execution_count": 15,
   "metadata": {},
   "outputs": [
    {
     "data": {
      "text/html": [
       "<div>\n",
       "<style scoped>\n",
       "    .dataframe tbody tr th:only-of-type {\n",
       "        vertical-align: middle;\n",
       "    }\n",
       "\n",
       "    .dataframe tbody tr th {\n",
       "        vertical-align: top;\n",
       "    }\n",
       "\n",
       "    .dataframe thead th {\n",
       "        text-align: right;\n",
       "    }\n",
       "</style>\n",
       "<table border=\"1\" class=\"dataframe\">\n",
       "  <thead>\n",
       "    <tr style=\"text-align: right;\">\n",
       "      <th></th>\n",
       "      <th>algorithm</th>\n",
       "      <th>RMSE</th>\n",
       "      <th>MAE</th>\n",
       "    </tr>\n",
       "  </thead>\n",
       "  <tbody>\n",
       "    <tr>\n",
       "      <th>0</th>\n",
       "      <td>KNNBasic</td>\n",
       "      <td>3.713634</td>\n",
       "      <td>2.672429</td>\n",
       "    </tr>\n",
       "    <tr>\n",
       "      <th>1</th>\n",
       "      <td>KNNBaseline</td>\n",
       "      <td>3.412892</td>\n",
       "      <td>2.474254</td>\n",
       "    </tr>\n",
       "    <tr>\n",
       "      <th>2</th>\n",
       "      <td>KNNWithMeans</td>\n",
       "      <td>2.953377</td>\n",
       "      <td>2.138220</td>\n",
       "    </tr>\n",
       "    <tr>\n",
       "      <th>3</th>\n",
       "      <td>SVD</td>\n",
       "      <td>3.276355</td>\n",
       "      <td>2.470511</td>\n",
       "    </tr>\n",
       "    <tr>\n",
       "      <th>4</th>\n",
       "      <td>SVDpp</td>\n",
       "      <td>3.360475</td>\n",
       "      <td>2.547291</td>\n",
       "    </tr>\n",
       "    <tr>\n",
       "      <th>5</th>\n",
       "      <td>NMF</td>\n",
       "      <td>5.734411</td>\n",
       "      <td>5.091614</td>\n",
       "    </tr>\n",
       "    <tr>\n",
       "      <th>6</th>\n",
       "      <td>SlopeOne</td>\n",
       "      <td>3.018283</td>\n",
       "      <td>2.208561</td>\n",
       "    </tr>\n",
       "    <tr>\n",
       "      <th>7</th>\n",
       "      <td>CoClustering</td>\n",
       "      <td>2.854187</td>\n",
       "      <td>2.040356</td>\n",
       "    </tr>\n",
       "  </tbody>\n",
       "</table>\n",
       "</div>"
      ],
      "text/plain": [
       "      algorithm      RMSE       MAE\n",
       "0      KNNBasic  3.713634  2.672429\n",
       "1   KNNBaseline  3.412892  2.474254\n",
       "2  KNNWithMeans  2.953377  2.138220\n",
       "3           SVD  3.276355  2.470511\n",
       "4         SVDpp  3.360475  2.547291\n",
       "5           NMF  5.734411  5.091614\n",
       "6      SlopeOne  3.018283  2.208561\n",
       "7  CoClustering  2.854187  2.040356"
      ]
     },
     "execution_count": 15,
     "metadata": {},
     "output_type": "execute_result"
    }
   ],
   "source": [
    "df_algorithm"
   ]
  },
  {
   "cell_type": "code",
   "execution_count": 17,
   "metadata": {},
   "outputs": [],
   "source": [
    "df_algorithm.to_csv(\n",
    "    \"/Users/jrchen/flatiron-ds-course/Milestones/capstone/cleaningData/algorithm.csv\")"
   ]
  },
  {
   "cell_type": "code",
   "execution_count": null,
   "metadata": {},
   "outputs": [],
   "source": []
  }
 ],
 "metadata": {
  "kernelspec": {
   "display_name": "Python 3",
   "language": "python",
   "name": "python3"
  },
  "language_info": {
   "codemirror_mode": {
    "name": "ipython",
    "version": 3
   },
   "file_extension": ".py",
   "mimetype": "text/x-python",
   "name": "python",
   "nbconvert_exporter": "python",
   "pygments_lexer": "ipython3",
   "version": "3.7.7"
  },
  "toc": {
   "base_numbering": 1,
   "nav_menu": {},
   "number_sections": true,
   "sideBar": true,
   "skip_h1_title": false,
   "title_cell": "Table of Contents",
   "title_sidebar": "Contents",
   "toc_cell": false,
   "toc_position": {},
   "toc_section_display": true,
   "toc_window_display": false
  }
 },
 "nbformat": 4,
 "nbformat_minor": 4
}
