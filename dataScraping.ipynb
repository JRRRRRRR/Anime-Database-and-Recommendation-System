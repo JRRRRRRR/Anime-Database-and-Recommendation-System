{
 "cells": [
  {
   "cell_type": "code",
   "execution_count": 1,
   "metadata": {},
   "outputs": [],
   "source": [
    "import pandas as pd\n",
    "import requests\n",
    "from bs4 import BeautifulSoup"
   ]
  },
  {
   "cell_type": "code",
   "execution_count": 2,
   "metadata": {},
   "outputs": [],
   "source": [
    "# web scraper function:\n",
    "# parameters: URL: a website page to scrap data; pages: how many pages to scrap\n",
    "# return: a title list and a image link list\n",
    "def scraper(URL, pages):\n",
    "# if the pages is above 0, will scrap this page\n",
    "    if pages > 0:\n",
    "        page = requests.get(URL)\n",
    "        soup = BeautifulSoup(page.content, 'html.parser')\n",
    "        results = soup.find(id='siteContainer')\n",
    "        animes_elems = results.find_all('li', class_='card')\n",
    "        for anime in animes_elems:\n",
    "            title = anime.find('h3', class_='cardName') # get the title for every anime\n",
    "            title = title.text.strip()\n",
    "            title_list.append(title) \n",
    "            image = anime.find('img')['data-src'] # get the image post-link for every anime\n",
    "            image = 'https://www.anime-planet.com/'+image\n",
    "            image_list.append(image)\n",
    "# to get a post link for next page\n",
    "        pages_container = results.find('li', class_=\"next\")\n",
    "        next_page = pages_container.find('a')['href'][10:]\n",
    "        URL = URL+next_page\n",
    "# finish scrap current page and the pages minus one \n",
    "        pages -= 1\n",
    "# call the scraper function again and scrap next page\n",
    "        scraper(URL, pages)"
   ]
  },
  {
   "cell_type": "code",
   "execution_count": 3,
   "metadata": {},
   "outputs": [],
   "source": [
    "URL = 'https://www.anime-planet.com/anime/all'\n",
    "title_list = []\n",
    "image_list = []\n",
    "scraper(URL, 70) # scrape 70 pages"
   ]
  },
  {
   "cell_type": "code",
   "execution_count": 4,
   "metadata": {},
   "outputs": [
    {
     "data": {
      "text/plain": [
       "(2450, 2)"
      ]
     },
     "execution_count": 4,
     "metadata": {},
     "output_type": "execute_result"
    }
   ],
   "source": [
    "df = pd.DataFrame({'title': title_list, 'imageLink':image_list})\n",
    "df.shape"
   ]
  },
  {
   "cell_type": "code",
   "execution_count": 5,
   "metadata": {},
   "outputs": [
    {
     "data": {
      "text/plain": [
       "title        0\n",
       "imageLink    0\n",
       "dtype: int64"
      ]
     },
     "execution_count": 5,
     "metadata": {},
     "output_type": "execute_result"
    }
   ],
   "source": [
    "df.isna().sum()"
   ]
  },
  {
   "cell_type": "code",
   "execution_count": 6,
   "metadata": {},
   "outputs": [],
   "source": [
    "df.to_csv(\"/Users/jrchen/flatiron-ds-course/Milestones/capstone/data/imageLink.csv\")"
   ]
  }
 ],
 "metadata": {
  "kernelspec": {
   "display_name": "Python 3",
   "language": "python",
   "name": "python3"
  },
  "language_info": {
   "codemirror_mode": {
    "name": "ipython",
    "version": 3
   },
   "file_extension": ".py",
   "mimetype": "text/x-python",
   "name": "python",
   "nbconvert_exporter": "python",
   "pygments_lexer": "ipython3",
   "version": "3.7.7"
  }
 },
 "nbformat": 4,
 "nbformat_minor": 4
}
